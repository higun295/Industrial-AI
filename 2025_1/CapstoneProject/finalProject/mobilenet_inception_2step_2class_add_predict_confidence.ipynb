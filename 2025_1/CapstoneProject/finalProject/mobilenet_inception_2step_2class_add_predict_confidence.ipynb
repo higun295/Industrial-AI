{
 "cells": [
  {
   "cell_type": "code",
   "execution_count": 1,
   "id": "4ef0aa81",
   "metadata": {},
   "outputs": [],
   "source": [
    "import os\n",
    "import torch\n",
    "import numpy as np\n",
    "import torch.nn as nn\n",
    "from sklearn.metrics import confusion_matrix\n",
    "import seaborn as sns\n",
    "import matplotlib.pyplot as plt\n",
    "from torchvision import datasets, models, transforms\n",
    "from PIL import Image, ImageFile\n",
    "from torch.utils.data import Dataset, DataLoader\n",
    "import torch.nn.functional as F\n",
    "Image.LOAD_TRUNCATED_IMAGES = True\n",
    "\n",
    "import timm\n",
    "import torchvision.transforms as transforms\n",
    "\n",
    "import shutil\n",
    "\n",
    "device = torch.device(\"cuda\" if torch.cuda.is_available() else \"cpu\")"
   ]
  },
  {
   "cell_type": "code",
   "execution_count": 2,
   "id": "410488c6-fbc1-496e-90c0-5b4567354c79",
   "metadata": {},
   "outputs": [],
   "source": [
    "def predict_image(model, input_image):\n",
    "    model.eval()\n",
    "    with torch.no_grad():\n",
    "        outputs = model(input_image)\n",
    "        probabilities = F.softmax(outputs, dim=1)\n",
    "        confidence, predicted = torch.max(probabilities, 1)\n",
    "        return predicted, confidence\n",
    "\n",
    "def predict(model, image, transform):\n",
    "    # image = Image.open(path)\n",
    "    # image = image.convert(\"RGB\")\n",
    "    \n",
    "    image_rgb = transform(image).unsqueeze(0)\n",
    "    \n",
    "    image_rgb = image_rgb.to(device)\n",
    "    \n",
    "    predicted_class, confidence = predict_image(model, image_rgb)\n",
    "    pred = predicted_class.item()\n",
    "    \n",
    "    pred_result = class_mapping[str(pred)]\n",
    "    return pred_result, confidence"
   ]
  },
  {
   "cell_type": "code",
   "execution_count": 3,
   "id": "b1cf7fda-6a4a-48b5-af87-6fa9ab9b42ad",
   "metadata": {},
   "outputs": [],
   "source": [
    "class_mapping = {\n",
    "            '0': '27_30',\n",
    "            '1': '27_45',\n",
    "            '2': '28',\n",
    "            '3': '31'\n",
    "        }\n",
    "\n",
    "ad_class_mapping = {\n",
    "            '27_30' : '0',\n",
    "            '27_45' : '1',\n",
    "            '28' : '2',\n",
    "            '31' : '3'\n",
    "        }"
   ]
  },
  {
   "cell_type": "code",
   "execution_count": 4,
   "id": "e609f964",
   "metadata": {},
   "outputs": [
    {
     "name": "stderr",
     "output_type": "stream",
     "text": [
      "/tmp/ipykernel_3903042/2951103358.py:6: FutureWarning: You are using `torch.load` with `weights_only=False` (the current default value), which uses the default pickle module implicitly. It is possible to construct malicious pickle data which will execute arbitrary code during unpickling (See https://github.com/pytorch/pytorch/blob/main/SECURITY.md#untrusted-models for more details). In a future release, the default value for `weights_only` will be flipped to `True`. This limits the functions that could be executed during unpickling. Arbitrary objects will no longer be allowed to be loaded via this mode unless they are explicitly allowlisted by the user via `torch.serialization.add_safe_globals`. We recommend you start setting `weights_only=True` for any use case where you don't have full control of the loaded file. Please open an issue on GitHub for any issues related to this experimental feature.\n",
      "  model1.load_state_dict(torch.load('../../model/inception_v4_final.pth'))\n"
     ]
    }
   ],
   "source": [
    "# 모델 불러오기 및 가중치 불러오기(inception, 1step활용)\n",
    "model1 = timm.create_model('inception_v4', pretrained=False)\n",
    "in_features = model1.last_linear.in_features\n",
    "num_classes = 4\n",
    "model1.last_linear = nn.Linear(in_features, num_classes)\n",
    "model1.load_state_dict(torch.load('../../model/inception_v4_final.pth'))\n",
    "\n",
    "model1 = model1.to(device)\n",
    "\n",
    "resize = 299\n",
    "transform1 = transforms.Compose([\n",
    "    transforms.Resize((resize, resize)),\n",
    "    transforms.ToTensor()\n",
    "])"
   ]
  },
  {
   "cell_type": "code",
   "execution_count": 5,
   "id": "bfb6dfb2-d3e3-4004-8ee8-8dd24746de7d",
   "metadata": {},
   "outputs": [
    {
     "name": "stderr",
     "output_type": "stream",
     "text": [
      "/home/dlit_ai/anaconda3/envs/pgn/lib/python3.9/site-packages/torchvision/models/_utils.py:208: UserWarning: The parameter 'pretrained' is deprecated since 0.13 and may be removed in the future, please use 'weights' instead.\n",
      "  warnings.warn(\n",
      "/home/dlit_ai/anaconda3/envs/pgn/lib/python3.9/site-packages/torchvision/models/_utils.py:223: UserWarning: Arguments other than a weight enum or `None` for 'weights' are deprecated since 0.13 and may be removed in the future. The current behavior is equivalent to passing `weights=None`.\n",
      "  warnings.warn(msg)\n",
      "/tmp/ipykernel_3903042/2500341540.py:5: FutureWarning: You are using `torch.load` with `weights_only=False` (the current default value), which uses the default pickle module implicitly. It is possible to construct malicious pickle data which will execute arbitrary code during unpickling (See https://github.com/pytorch/pytorch/blob/main/SECURITY.md#untrusted-models for more details). In a future release, the default value for `weights_only` will be flipped to `True`. This limits the functions that could be executed during unpickling. Arbitrary objects will no longer be allowed to be loaded via this mode unless they are explicitly allowlisted by the user via `torch.serialization.add_safe_globals`. We recommend you start setting `weights_only=True` for any use case where you don't have full control of the loaded file. Please open an issue on GitHub for any issues related to this experimental feature.\n",
      "  model2.load_state_dict(torch.load('../../model/mobilenetv3_with_smote_multi_3.pth'))\n"
     ]
    }
   ],
   "source": [
    "# 모델 불러오기 및 가중치 불러오기 (mobilenet, 2step활용)\n",
    "model2 = models.mobilenet_v3_small(pretrained=False)\n",
    "num_classes = 4\n",
    "model2.classifier[3] = nn.Linear(model2.classifier[3].in_features, num_classes)\n",
    "model2.load_state_dict(torch.load('../../model/mobilenetv3_with_smote_multi_3.pth'))\n",
    "model2 = model2.to(device)\n",
    "\n",
    "transform2 = transforms.Compose([\n",
    "    transforms.Resize(256),\n",
    "    transforms.CenterCrop(224),\n",
    "    transforms.ToTensor()\n",
    "])"
   ]
  },
  {
   "cell_type": "code",
   "execution_count": 6,
   "id": "1cb1292c-72d6-400d-8d0d-02e0b5d85264",
   "metadata": {},
   "outputs": [
    {
     "name": "stderr",
     "output_type": "stream",
     "text": [
      "/tmp/ipykernel_3903042/3169595673.py:2: FutureWarning: You are using `torch.load` with `weights_only=False` (the current default value), which uses the default pickle module implicitly. It is possible to construct malicious pickle data which will execute arbitrary code during unpickling (See https://github.com/pytorch/pytorch/blob/main/SECURITY.md#untrusted-models for more details). In a future release, the default value for `weights_only` will be flipped to `True`. This limits the functions that could be executed during unpickling. Arbitrary objects will no longer be allowed to be loaded via this mode unless they are explicitly allowlisted by the user via `torch.serialization.add_safe_globals`. We recommend you start setting `weights_only=True` for any use case where you don't have full control of the loaded file. Please open an issue on GitHub for any issues related to this experimental feature.\n",
      "  model3.load_state_dict(torch.load('../../model/inception_resnet_v2_final_ll.pth'))\n",
      "/tmp/ipykernel_3903042/3169595673.py:7: FutureWarning: You are using `torch.load` with `weights_only=False` (the current default value), which uses the default pickle module implicitly. It is possible to construct malicious pickle data which will execute arbitrary code during unpickling (See https://github.com/pytorch/pytorch/blob/main/SECURITY.md#untrusted-models for more details). In a future release, the default value for `weights_only` will be flipped to `True`. This limits the functions that could be executed during unpickling. Arbitrary objects will no longer be allowed to be loaded via this mode unless they are explicitly allowlisted by the user via `torch.serialization.add_safe_globals`. We recommend you start setting `weights_only=True` for any use case where you don't have full control of the loaded file. Please open an issue on GitHub for any issues related to this experimental feature.\n",
      "  model4.load_state_dict(torch.load('../../model_create/new_model/inception_resnet_v2_2class_2_final_ll.pth'))\n"
     ]
    }
   ],
   "source": [
    "model3 = timm.create_model('inception_resnet_v2', pretrained=False, num_classes=2)\n",
    "model3.load_state_dict(torch.load('../../model/inception_resnet_v2_final_ll.pth'))\n",
    "\n",
    "model3 = model3.to(device)\n",
    "\n",
    "model4 = timm.create_model('inception_resnet_v2', pretrained=False, num_classes=2)\n",
    "model4.load_state_dict(torch.load('../../model_create/new_model/inception_resnet_v2_2class_2_final_ll.pth'))\n",
    "\n",
    "model4 = model4.to(device)\n",
    "\n",
    "resize = 299"
   ]
  },
  {
   "cell_type": "code",
   "execution_count": 35,
   "id": "1b8eba04-1e92-439f-a00b-7922174562d1",
   "metadata": {
    "scrolled": true
   },
   "outputs": [],
   "source": [
    "# data_dir = '/home/dlit_ai/seohan/test_data/testdata_240227/'\n",
    "# data_dir = '/home/dlit_ai/seohan_data/test_data/testdata_250109/'\n",
    "\n",
    "# # 상위 폴더 내의 하위 폴더 목록을 가져옵니다.\n",
    "# subdirectories = [os.path.join(data_dir, o) for o in os.listdir(data_dir) \n",
    "#                   if os.path.isdir(os.path.join(data_dir,o))]\n",
    "\n",
    "\n",
    "parent_dirs = [\n",
    "    '/home/dlit_ai/seohan_data/test_data/testdata_241218/',\n",
    "    '/home/dlit_ai/seohan_data/test_data/testdata_241219/',\n",
    "    '/home/dlit_ai/seohan_data/test_data/testdata_241220/',\n",
    "    '/home/dlit_ai/seohan_data/test_data/testdata_241221/',\n",
    "    '/home/dlit_ai/seohan_data/test_data/testdata_241223/',\n",
    "    '/home/dlit_ai/seohan_data/test_data/testdata_241224/',\n",
    "    '/home/dlit_ai/seohan_data/test_data/testdata_241225/',\n",
    "    '/home/dlit_ai/seohan_data/test_data/testdata_241226/',\n",
    "    '/home/dlit_ai/seohan_data/test_data/testdata_241227/',\n",
    "    '/home/dlit_ai/seohan_data/test_data/testdata_241228/',\n",
    "    '/home/dlit_ai/seohan_data/test_data/testdata_241230/',\n",
    "    '/home/dlit_ai/seohan_data/test_data/testdata_241231/',\n",
    "    '/home/dlit_ai/seohan_data/test_data/testdata_250101/',\n",
    "    '/home/dlit_ai/seohan_data/test_data/testdata_250102/',\n",
    "    '/home/dlit_ai/seohan_data/test_data/testdata_250103/',\n",
    "    '/home/dlit_ai/seohan_data/test_data/testdata_250104/',\n",
    "    '/home/dlit_ai/seohan_data/test_data/testdata_250106/',\n",
    "    '/home/dlit_ai/seohan_data/test_data/testdata_250107/',\n",
    "    '/home/dlit_ai/seohan_data/test_data/testdata_250108/',\n",
    "    '/home/dlit_ai/seohan_data/test_data/testdata_250109/',\n",
    "    '/home/dlit_ai/seohan_data/test_data/testdata_250110/',\n",
    "]\n",
    "\n",
    "all_subdirs = []\n",
    "for dir_path in parent_dirs:\n",
    "    subdirs = [os.path.join(dir_path, o) for o in os.listdir(dir_path)\n",
    "               if os.path.isdir(os.path.join(dir_path, o))]\n",
    "    all_subdirs.extend(subdirs)\n",
    "\n",
    "y_test = []\n",
    "predicted_class = []\n",
    "wrong_label = []\n",
    "predict2 = []\n",
    "wrong_file = []\n",
    "wrong_file1 = []\n",
    "\n",
    "for subdir in all_subdirs:  \n",
    "    files = [f for f in os.listdir(subdir) if os.path.isfile(os.path.join(subdir, f))]\n",
    "    folder_label = subdir.split('/')[-1]\n",
    "    su_folder_label = ad_class_mapping[folder_label]\n",
    "    correct = folder_label\n",
    "    \n",
    "    for file in files:\n",
    "        image = Image.open(subdir+'/'+file)\n",
    "        image = image.convert(\"RGB\")\n",
    "\n",
    "        result, confidence = predict(model1, image, transform1)\n",
    "        if correct != result:\n",
    "            wrong_file1.append(file)\n",
    "            wrong_label.append(ad_class_mapping[correct])\n",
    "            predict2.append(ad_class_mapping[result])\n",
    "            \n",
    "        if (not correct.startswith('27') or not result.startswith('27')) and correct != result:\n",
    "            result, confidence = predict(model2, image, transform2)\n",
    "            \n",
    "        if result.startswith('27'):\n",
    "            result, confidence = predict(model3, image, transform1)\n",
    "            # print(result, confidence)\n",
    "            # if confidence < 0.9 or correct != result:\n",
    "            #     result, confidence = predict(model4, image, transform1)\n",
    "                # print(result, confidence)\n",
    "                \n",
    "\n",
    "        if correct != result :\n",
    "            wrong_file.append(file)\n",
    "        # if correct != result or confidence.item() < 0.85:\n",
    "        #     print(file, correct, result, confidence)\n",
    "        #     wrong_file1.append(file)\n",
    "        #     wrong_label.append(ad_class_mapping[correct])\n",
    "        #     if result in ['28', '31']:\n",
    "        #         result, confidence = predict(model2, image, transform2)\n",
    "                \n",
    "        #     if result in ['27_30', '27_45']:\n",
    "        #         result, confidence = predict(model3, image, transform1)\n",
    "\n",
    "        #     predict2.append(ad_class_mapping[result])\n",
    "        #     if correct != result :\n",
    "        #         wrong_file.append(file)\n",
    "\n",
    "        y_test.append(su_folder_label)\n",
    "        predicted_class.append(ad_class_mapping[result])\n"
   ]
  },
  {
   "cell_type": "code",
   "execution_count": 36,
   "id": "513c928a-1513-42f8-8495-3f44a4452651",
   "metadata": {},
   "outputs": [
    {
     "data": {
      "text/plain": [
       "{'0', '1', '2', '3'}"
      ]
     },
     "execution_count": 36,
     "metadata": {},
     "output_type": "execute_result"
    }
   ],
   "source": [
    "set(predicted_class)"
   ]
  },
  {
   "cell_type": "code",
   "execution_count": 37,
   "id": "af6ed85f-3be2-4a0d-a0e8-2b178b02dac9",
   "metadata": {},
   "outputs": [
    {
     "data": {
      "image/png": "[encoded data removed]",
      "text/plain": [
       "<Figure size 640x480 with 2 Axes>"
      ]
     },
     "metadata": {},
     "output_type": "display_data"
    }
   ],
   "source": [
    "cm = confusion_matrix(y_test, predicted_class)\n",
    "class_names = ['27_30', '27_45', '28', '31']\n",
    "sns.heatmap(cm, annot=True, fmt='d', cmap='Blues', xticklabels=class_names, yticklabels=class_names)\n",
    "plt.xlabel('Predicted')\n",
    "plt.ylabel('True')\n",
    "plt.title('Confusion Matrix')\n",
    "plt.show()"
   ]
  },
  {
   "cell_type": "code",
   "execution_count": 38,
   "id": "6c5d3ccf-da70-4c1e-932e-90f2bc0da9fd",
   "metadata": {},
   "outputs": [
    {
     "data": {
      "text/plain": [
       "['20241219_105248_131_49748-95270.bmp',\n",
       " '20241219_140434_253_49748-95273.bmp',\n",
       " '20241219_131356_123_49748-95273.bmp',\n",
       " '20241219_145224_326_49748-95273.bmp',\n",
       " '20241223_162802_907_49748-95273.bmp',\n",
       " '20241224_010029_370_49748-95270.bmp',\n",
       " '20241226_232520_4_49538-95285.bmp',\n",
       " '20241226_231959_10_49748-04310.bmp',\n",
       " '20241226_232216_13_49748-04310.bmp',\n",
       " '20241226_225039_1324_49748-95273.bmp',\n",
       " '20241226_225101_1325_49748-95273.bmp',\n",
       " '20241226_225208_1327_49748-95273.bmp',\n",
       " '20241226_225137_1326_49748-95273.bmp',\n",
       " '20241227_015850_47_49748-04310.bmp',\n",
       " '20241227_015018_41_49748-04310.bmp',\n",
       " '20241227_015316_43_49748-04310.bmp',\n",
       " '20241227_015534_45_49748-04310.bmp',\n",
       " '20241227_015642_46_49748-04310.bmp',\n",
       " '20241227_015455_44_49748-04310.bmp',\n",
       " '20241227_014443_37_49748-04310.bmp',\n",
       " '20250102_160453_232_49748-95270.bmp',\n",
       " '20250102_140653_16_49748-95270.bmp',\n",
       " '20250103_210648_20_49748-00310.bmp',\n",
       " '20250106_175750_104_49748-95270.bmp',\n",
       " '20250106_181026_139_49748-95270.bmp',\n",
       " '20250106_215924_415_49538-95285.bmp',\n",
       " '20250106_220800_424_49538-95285.bmp',\n",
       " '20250106_214343_403_49538-95285.bmp',\n",
       " '20250106_220209_419_49538-95285.bmp',\n",
       " '20250106_221000_428_49538-95285.bmp',\n",
       " '20250106_215903_414_49538-95285.bmp',\n",
       " '20250107_020940_888_49538-95285.bmp',\n",
       " '20250108_185455_61_49748-95270.bmp',\n",
       " '20250108_195409_154_49748-95270.bmp',\n",
       " '20250109_092511_981_49538-95285.bmp',\n",
       " '20250109_092430_979_49538-95285.bmp',\n",
       " '20250109_115806_7_49748-00280.bmp',\n",
       " '20250109_012357_603_49538-95285.bmp',\n",
       " '20250109_092249_974_49538-95285.bmp',\n",
       " '20250109_092552_983_49538-95285.bmp',\n",
       " '20250109_075909_843_49538-95285.bmp',\n",
       " '20250109_091843_962_49538-95285.bmp',\n",
       " '20250109_092654_986_49538-95285.bmp',\n",
       " '20250109_092148_971_49538-95285.bmp',\n",
       " '20250109_091617_956_49538-95285.bmp',\n",
       " '20250110_154841_13_49748-00280.bmp']"
      ]
     },
     "execution_count": 38,
     "metadata": {},
     "output_type": "execute_result"
    }
   ],
   "source": [
    "wrong_file"
   ]
  },
  {
   "cell_type": "code",
   "execution_count": 39,
   "id": "0c54cbae-388a-4f5e-b6f0-17687199200d",
   "metadata": {},
   "outputs": [],
   "source": [
    "#1step에서 틀린것만\n",
    "# cm = confusion_matrix(wrong_label, predict2)\n",
    "# class_names = ['27_30', '27_45', '28', '31']\n",
    "# sns.heatmap(cm, annot=True, fmt='d', cmap='Blues', xticklabels=class_names, yticklabels=class_names)\n",
    "# plt.xlabel('Predicted')\n",
    "# plt.ylabel('True')\n",
    "# plt.title('Confusion Matrix')\n",
    "# plt.show()"
   ]
  },
  {
   "cell_type": "code",
   "execution_count": 48,
   "id": "0edcc973-5eb3-4c9a-9c09-7232df2950f4",
   "metadata": {},
   "outputs": [
    {
     "data": {
      "text/plain": [
       "['20241121_150446_621_49748-95270.bmp',\n",
       " '20241121_152127_655_49748-95270.bmp',\n",
       " '20241121_133309_477_49748-95270.bmp',\n",
       " '20241121_143150_590_49748-95270.bmp',\n",
       " '20241121_110214_258_49748-95270.bmp',\n",
       " '20241121_155625_738_49748-95270.bmp',\n",
       " '20241121_161523_781_49748-95270.bmp',\n",
       " '20241121_161145_771_49748-95270.bmp',\n",
       " '20241121_102626_193_49748-95270.bmp',\n",
       " '20241121_153529_690_49748-95270.bmp',\n",
       " '20241121_105747_252_49748-95270.bmp',\n",
       " '20241121_153352_687_49748-95270.bmp',\n",
       " '20241121_113004_317_49748-95270.bmp',\n",
       " '20241121_125851_90_49748-95273.bmp',\n",
       " '20241121_133921_195_49748-95273.bmp',\n",
       " '20241121_023255_623_49748-95273.bmp',\n",
       " '20241121_022047_600_49748-95273.bmp',\n",
       " '20241121_185926_854_49748-95273.bmp',\n",
       " '20241121_022200_602_49748-95273.bmp',\n",
       " '20241121_023218_622_49748-95273.bmp',\n",
       " '20241121_022654_612_49748-95273.bmp',\n",
       " '20241121_135451_230_49748-95273.bmp',\n",
       " '20241121_151946_415_49748-95273.bmp',\n",
       " '20241121_163639_598_49748-95273.bmp',\n",
       " '20241121_022124_601_49748-95273.bmp',\n",
       " '20241121_023043_619_49748-95273.bmp',\n",
       " '20241121_023141_621_49748-95273.bmp',\n",
       " '20241121_134911_215_49748-95273.bmp',\n",
       " '20241121_175459_699_49748-95273.bmp',\n",
       " '20241121_022540_610_49748-95273.bmp',\n",
       " '20241121_125125_73_49748-95273.bmp',\n",
       " '20241121_153432_451_49748-95273.bmp',\n",
       " '20241121_011653_427_49748-95273.bmp',\n",
       " '20241121_022237_603_49748-95273.bmp',\n",
       " '20241121_022025_599_49748-95273.bmp',\n",
       " '20241121_022617_611_49748-95273.bmp',\n",
       " '20241121_022730_613_49748-95273.bmp',\n",
       " '20241121_022519_609_49748-95273.bmp']"
      ]
     },
     "execution_count": 48,
     "metadata": {},
     "output_type": "execute_result"
    }
   ],
   "source": [
    "# wrong_file1"
   ]
  },
  {
   "cell_type": "code",
   "execution_count": 49,
   "id": "ff989808",
   "metadata": {},
   "outputs": [
    {
     "ename": "NameError",
     "evalue": "name 'y_test_cpu' is not defined",
     "output_type": "error",
     "traceback": [
      "\u001b[0;31m---------------------------------------------------------------------------\u001b[0m",
      "\u001b[0;31mNameError\u001b[0m                                 Traceback (most recent call last)",
      "Cell \u001b[0;32mIn[49], line 3\u001b[0m\n\u001b[1;32m      1\u001b[0m \u001b[38;5;28;01mfrom\u001b[39;00m\u001b[38;5;250m \u001b[39m\u001b[38;5;21;01msklearn\u001b[39;00m\u001b[38;5;21;01m.\u001b[39;00m\u001b[38;5;21;01mmetrics\u001b[39;00m\u001b[38;5;250m \u001b[39m\u001b[38;5;28;01mimport\u001b[39;00m f1_score\n\u001b[1;32m      2\u001b[0m \u001b[38;5;28;01mfrom\u001b[39;00m\u001b[38;5;250m \u001b[39m\u001b[38;5;21;01msklearn\u001b[39;00m\u001b[38;5;21;01m.\u001b[39;00m\u001b[38;5;21;01mmetrics\u001b[39;00m\u001b[38;5;250m \u001b[39m\u001b[38;5;28;01mimport\u001b[39;00m accuracy_score\n\u001b[0;32m----> 3\u001b[0m \u001b[38;5;28mprint\u001b[39m(f1_score(\u001b[43my_test_cpu\u001b[49m, predicted_class_cpu, average\u001b[38;5;241m=\u001b[39m\u001b[38;5;124m'\u001b[39m\u001b[38;5;124mmicro\u001b[39m\u001b[38;5;124m'\u001b[39m))\n\u001b[1;32m      4\u001b[0m \u001b[38;5;28mprint\u001b[39m(accuracy_score(y_test_cpu, predicted_class_cpu))\n",
      "\u001b[0;31mNameError\u001b[0m: name 'y_test_cpu' is not defined"
     ]
    }
   ],
   "source": [
    "# from sklearn.metrics import f1_score\n",
    "# from sklearn.metrics import accuracy_score\n",
    "# print(f1_score(y_test_cpu, predicted_class_cpu, average='micro'))\n",
    "# print(accuracy_score(y_test_cpu, predicted_class_cpu))"
   ]
  },
  {
   "cell_type": "code",
   "execution_count": null,
   "id": "891ed8be-1878-40ce-8b45-8036f917f227",
   "metadata": {},
   "outputs": [],
   "source": []
  },
  {
   "cell_type": "code",
   "execution_count": null,
   "id": "b60b5742-a6af-4a3b-bec7-061a26212da2",
   "metadata": {},
   "outputs": [],
   "source": []
  },
  {
   "cell_type": "code",
   "execution_count": null,
   "id": "dd69e8b5-876f-4a6b-b2ab-9d6452539f7c",
   "metadata": {},
   "outputs": [],
   "source": []
  },
  {
   "cell_type": "code",
   "execution_count": null,
   "id": "609a40aa-b7cf-40d2-b237-e61fb04e14d0",
   "metadata": {},
   "outputs": [],
   "source": []
  },
  {
   "cell_type": "code",
   "execution_count": null,
   "id": "3454522d-0d15-4fe3-9097-a252d3a67cd2",
   "metadata": {},
   "outputs": [],
   "source": []
  }
 ],
 "metadata": {
  "kernelspec": {
   "display_name": "pgn",
   "language": "python",
   "name": "pgn"
  },
  "language_info": {
   "codemirror_mode": {
    "name": "ipython",
    "version": 3
   },
   "file_extension": ".py",
   "mimetype": "text/x-python",
   "name": "python",
   "nbconvert_exporter": "python",
   "pygments_lexer": "ipython3",
   "version": "3.9.21"
  },
  "widgets": {
   "application/vnd.jupyter.widget-state+json": {
    "state": {},
    "version_major": 2,
    "version_minor": 0
   }
  }
 },
 "nbformat": 4,
 "nbformat_minor": 5
}
